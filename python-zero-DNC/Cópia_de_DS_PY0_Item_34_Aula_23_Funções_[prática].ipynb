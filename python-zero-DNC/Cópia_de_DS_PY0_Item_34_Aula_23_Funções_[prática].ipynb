{
  "nbformat": 4,
  "nbformat_minor": 0,
  "metadata": {
    "colab": {
      "provenance": [],
      "collapsed_sections": []
    },
    "kernelspec": {
      "name": "python3",
      "display_name": "Python 3"
    },
    "language_info": {
      "name": "python"
    }
  },
  "cells": [
    {
      "cell_type": "markdown",
      "metadata": {
        "id": "dsu3uJksx-M7"
      },
      "source": [
        "![dnc.png](data:image/png;base64,iVBORw0KGgoAAAANSUhEUgAAAfcAAABkCAMAAACsLolMAAAArlBMVEX///8iQJrkUob/u1lr+87iQHz88PT/tkny//pe+8v/+PEaO5gePZkNNZYTOZnS1+jz9fpWaq+rtNVPY6rp7PUALpTk5/Gapc0AJ5IAK5M8VKNbba8AMZX4+fyBj8F1hb2SnsnK0OXBx9765Orc4O6Z/NvtlbG1vdn/zo9HXactSqDm6vRufrh8ir6MmcZjdbM0T6KirNA/V6UAIJCxutkAIpAAGY/hLXP/sTP/zpAYTYZvAAARSklEQVR4nO2dCZfiOnbHcTKTmUSLDdhQFDbYxBmCiz28SfL9v1i0WbuNuxumoKP/Oe+camNL1/pJV9uV32gUFBQUFBQUFBQUFBQUFBQUFBQUFBQUFPTSKrZCt1heKj8XH80x/U6zfkDJ8fzxcS6T77bjvVRliCubiiuzTwSjCKKo+lbDhipuuLnn+P69QVIViLjAmF8olphfgPAdmlCyEy8APovvtuWdVGGL+yYTF6J8/r2mDdIkb81Ft++25Z3kcD+0FyJweoMWtATS3P132/JOcrifZEHC3Rtwv0LJfXr/7qBWDve9akDjN+A+VuaevtuWd5LD/SI7TLz6XtMG6Yhk//4Ow5GXkcM9bVrP+V/195o2SDUU5sJ89t22vJMc7mRAz1wnzN6j/Uy4uSCffLclbyWX+6ia4ixHu3eZFm12KM/RdPPddryXPNxHRb3Zxu+waMOVxNt3Mvc15OMe9PsrcP9/ouSrruuZdIs/yb1Ihsztk5TkVX8NXwZIZuT+h24EstetZ31pFunMKJLfT0Vc7qdnArnZ7eczhsPlfjmshMSFWlw4bEUqVblfjsfLddnXqxazy378GUEQnceHLb8xaSVqQlK2WdEpY7FdTxsyLftcHmszpe38uDrOb7Uvu3mbRNn1usSEZnc6xt7ql25Xy2sTYVokl9Rr5bsrKT8zhCGd8EIAUL6kQ2CHe7JDmOvvopgnC/7v7MBTOS8QACQFgLLPzm3vyThDgOVFMsNZcyGFWDf0ChESc65ZLvJakCp1O2dY3I/ytWygaXld5AhhhPJFs9/a+XydRRIIW5jS8qyZANDienFAVnucY9DekuM1XQMYY24l3v8O4JPjAsm1bE56ca083KftXR8td9QuhJJyKHM9FYjyiy+zG8hBpAvmzWYUR9BcWpu1N6FLcVro1iHM52XFKtPygyCLLPLpp/zZoJQeMut1iQ2ROTetpgvTygh/lKNRmyJY/gbcq08UOQLg4uy/d3OHu6Ke5nYaaOk0+dnSLnKaPr7EErPNHazH2LwdQgp+trOthuhk5NfB/RZZ6YmH9+rh4oiBe0t+KprfiPvW946sFCWX+9zPt7MnFXy1wMeNr8wj4jfbPx3uUeRUFNh8jWZXT0pop+fn5V6UuVvx+MPjdjU32TtVmL/OvhF//Qbct13lEGm7b/zWbu6kTLyp4KlRPnXkrWJ6Xh7unmTXyc5bgZDOw8t9lfme4w9f+cihOPmx6yXy9twrPzDzdQdw71B+0PL6avpgisIfwj3CSy/2KMqOKjsf92MXUmqrGFKe7r3UEO7pZju5bXsC++LbxPw5rba3yW3z07GARXUnR13J530Uv8I9QtriuA0LeqrcMO6u75fX1Yt7uG96sGcC+8W+x2PmHe7FdhphRKYa4FwSH5KCpol4A0h3TdOciOdb4jxHoCm/hK0T+gRi1w46u2JMHojMjaWKpNdgjoT+TKNK0iPNkT6+GrJXejTAkVkSxrkz8hrOnSZA8tavqFAX82YyrCcvhOzMOrhDMl1zDeNUDC5YhVS53JNGvxWSFJW1bchgajhAki8tY2sKcod7PJb3Q3TejNKMzE/XwiYyzR2P6jNvAvCDz3kunyoHiOD+S3GfkrmktaFYLcg7fwgkJL0ryfLadtcQReXdTijRezuMp/OqqjbHT2ukN5Q7wNMJSWByAlrDVg1eb6QYnLZxXddVeTZp+rmj66WKq5U7KiQ5Xa+Rbi9Q03uH+1xryhA16y2x9jLGNNW87SBW2isBtJtXxMp4MjWLpJf7Der3wuyW5HRIwm26QvLw6CrugBEdSybmRJXc3MhCK2iZ29wptYVEAnfmwAmiu9FQc/WS8OMgHURlzskGcs+WrYP62qv6JGOcJnpeK1Wjb0AvJh93uZhT2APtxZ5F8ldjlTaSZeRwT7XmjtWEfbbKoBwXfOlVdqfOCZA2rJdID/dbxnMBGAP2V14Cgztc0voHyc884DMV82gon4hg3lrHuKM73Au+vCQfR9N+8IUqGT4plir1ljWMuz6kGh3V8wthw1R5MmDklU71svbN41Txr3W7INq611UsncNdBVZH+mydQI2k7VpLyPUXshxBN/eaY0doeVjtufum/2ncI9K/wfx6OCzxH6QgiqsIZmlO5Ikdd/iyiIZwv9K3B2hKHj9zd48Ooz7Fmpu3ghMuWgEP4o7NWOW9fD7jKc8Wipe1sDZTka8+7khb95NnIViWqjiUaRForzncVWA1Nld4RqnEqIIxkR1DqNW5bu4FywTCFdvjSDZLUUI6d7oCcUvo7sK6aOsTvt6YEUm9Z40WRNzCAX6eJYhPNXv89smsxL2xJqpyo9L+7aCQDuEOz2ZJ1rI3F0lrpxjMdtS+SBd3aCz+aG3WiJLdyusfbQdvc5+d23/DqGvvoJZdgXvIRqtz3dy3GcMuPVQhZo4md6Q8WM3aA1ori7as6EQpDWjvLHnZNhLmV/u3UGVgNDw775GqYfIQ7k4Mm2wd4tCCPHQBG7fQVYS2y90Mhk3V6DDT5zuq787aqm5zr1TN6wy40+5x9nk40zvcWXPPdctEe9a56zV/xUaVhm+p2BM5q7/DuC+03YWCVU/cc4QxGcs26QmULCXTAdzh+ct6XDZAyAYZhXSybnNv39TPfWEsRRTy8AY0FmXVdTkksrlfpLFRZ5FIDwgbT3nJ/qiTO9tnQOaG1Nju3yMtvjeh9RjszFQmmSyJQX7e7JKYq8U9PbwqmMyzzKOq/gDu7smEr7Y/5z1AKsss89VEScjD3bxz1foN683kdVnqNnfbA/kkvZLg1JF3J3dab6C1K8H2NXXuep1iZw5zuzemzoufRRvU3nMzQ/oSPXV7NJO+8cP3sxyIDeDuHqQoZHtnfv2rsZ81JIdTLndg3indkDUkkStQ0nfZ3JeOR3Cl7nHdvDa46ORO38MuC4ZO567XO2q2y4i6Ju5Ch3C3htTi9+44orotlgj7fv6RfRm3oyjUFJHePJN55b68ZDtzuNuFUnZk6V63uUvr8+6+T9U/3z1y/NnJndZux6FRN6Fz1/uBE/D5lpiZySKNBvh5ZLkL1nc4PkSpVuPbrnd4HHc1VfPl5bTWJ3BvF8ki3L15sWsf8Y6L6nvcWe3G9umciblepyNhRer6luLcXh4yf2+sFfmC1l7kjXrhr9HfBn9kXDegvcsxpC+v1T+gvUum3rbM9YvtnQ7rYGN7WPqY0d4Vd/5vNy/pFoZw/7R7zjXoPRM46+1zkx/p3+9y1/p3X5EtO/v3x3GXTHtcYH//frvXv9MhHPy0uccWd82XsDUF4HJntOmLDFuft0RbkW/aJJTKFuAric2PjOfvcr8znlfe4Hnc5SIB7i4SNZ73nfiVeXRx33i506WZLu60OUC332GeuhwNau/2LFAMKHqOLMs5L/DMWrQl7wdw1+bvpZtX3D1/fxx3NTc/d5bIpW/+Xsh20tveHT//E+191+fnN7/Y3vUT4s5mff1D67R3uWvrdU53pHXvz+SuHFj3Ypa2Xue6QG1Fo6t/pzk647pt3snd7u9bUdPZdNPLPTe5OyvK+/7+XftQkfPBGrX+9SDu2pKuM9LU6tgTudfOBMVV3z2F9sGcDu5sFdlZBKOmdXBPPFhHYtWZdYicu1liE4t7Y62V8jFBz6HlBKh1Mqs70LZlHsNd7cfpsVD8VlWgz+Su7QQ7B/ilu+u5R9ui7Zy/n6GnLPagkzvrat31QxbCjuT83eLOXlWbv9vjg4R6T+8wqpX6QlWU61uT6VLD/hjuahoVQWgtuWuZPZO7Bs4IFhgV+4+NnYwDXg/WMbgnsToURgdF0PqKEhu7dXFnXa0ztS3Zeh0dJ/C5uGkJ2+PW120sB8q2RrxLsK1itSke4eYiOqZ6bga+Pob7RZUoxBdVyWJ9S/2p3GdaJB6eysJPtlcMoXCLMy3uAO9VT/21MlqC4p6u6cG9tbiTdb1mWAm3rIt7RQk439cDsN3yYL7Q3IpI2X6y3t6tMSjzIf1nWTUPSyPOTquyPCwb+9TUQ7gneqhMvitrer4w3e6NMKuncjdDZvDyuKln8W21Y18zxWLCrkf04OawSamZ8epsRhJK7u2nWz95T8G27MBV7wX4EbAu7gmFaAcvMMckWjHtJMyRG29Axr6MUW/oZPLepxprIxgVAowQBib1R3E3Y3cBWkTX3RnZkapP5Z6aYYMoXyyyXERMwoyDrzUXSGpDhj93V7iwThko7vs2nkY495JmgbVRsoj26OIuHL1xznKj7b/z3zNtFUlEtOjcYaRNx2aNd9HQ0qX7/Ih6y8dwT64mYysC2kzoKdzd2HhdIoDecOjcTLdEWu4qrCgXDZ5hRtc2PG4iakwn9/SDGT1WY/I5c7ft/JutEcJGjogq4YyNuAvYyCRr5j/z0uZh63gf/IO4k9mtW4K2nstdNs+evAv/ESyzRFrusROfs2H+AuLrcbu5HZrWUXRyF6NNAMuahdxt+HlP2LQx/6xegKikAXtptafY6XcKrPg6sKaPkw6JZQh27hqJzefQ0QYUo0dxV+vb3Zk9mXvSdwgK8flU3XmGyJ2/q8hAGZcl/AXpRfIcw/bdxNDMw12cy4Io2i2XUxEQq0Xo8QhVMviaLpfsZANa0T7fbO/0gCJ5fAd5Wn1RVlIr/zkUtG3jEB/GnfhZb4uHqIyshJ7EnYDvrHv5oW3EZ3+LR0fn/Hsss1AxdVYO+WGvgjF83JM2+h8CIDyiHGXSkhDVDdKfqRXLxOIOLuwH8Tv5YzHsQ3ObxsWBolid8n8Y99Em8rQ3gCq5Jfxs7qRjs79oIIzIVGGlU0/9hIujXIOQ3It2kw9oc6lyoUVcfxz5tijvrn3cR8X6w8gO5o2+wLHBxkxomrCJmj5/r2L9OA8Cvr1En4p5k+ujeIjZ10TatSvFvU19EHeRIATGofRDbo2NYTau1Zaw5N7eBaGZ7k9wh+b3LuJT7kxZcH4yVtUv9lyWONCtmvaq8XzMD0UBY2+lpt9IwYB9MaYylstT4qmBG++z2clSgSBvrANu9WnRtmTE/MYJAfCHQMLX9+upPKWjfQjmvpLb6UyncFQInfesvp1y/n2YXARNEockvm/TnoG5LdoLzpp7EbVfl7GC1eO9VskgRrsJHbC036LJREJfUKSMrEWJeUeW88y+nl6lBZZp1SnS0EOA4MneGknLay5ntITF+UBLcy1LRJKJxzDL8NhC+bVd7U+n9ZwdZqDcxRZ6ul8ul2N337XYrHcRyrIcnk8Th1tR7a8wJz9e+VnZI0mEzxtlnFVy2UXkjmh3+NFPB8+qy+E0ni7380rMKepYqJ1jzNoLreGFvOCOH+XTjiGz7amhx8eI/zqvN/xJJ6Gux5OOLD3Xuy0Y1TduAqkZsBnPfWWVbFbXiNU+csdtZhaA7hzizcb/QaxW1Ev0xHq0+dVxVVWxHY8ulLIfnVLW4uuKmtzh/a7XK+mLlNam+tbvRFMTtpuq7mGW1NWm/w5L6WTrkGP9jWeP/RHyxlUG/cMVLxDKr2Y9oWv28PycKh64v4bo+p293UgnAc/61Gvg/hri5yKW+iW27uILLnuEAvcXEdvOQ2rEzj/JwL9r8QQF7i8i/kkBMu9bX26T+T7i+42LZ/0fLwL3V5HY54L861J8ASD3HbJ8iAL3V1Hh7PxA9LyvGAfur6PS+OwxyHtOqv2yAvcXUnpsFmzRm/j6xfXyzCW05POPj4+/D92HCXqyinhyPKzXh+Nt9uQP2f7U/wXhr68sYt+/vLZGo397aXVy/49/fV39aTT69//+8yvrb6PR//zlhfWf3dz/9MIi3P/8T68swv0v//zCCtyfo8D9KQrcf1GB+3MUuD9FgfsvKnB/jgL3pyhw/0UF7s/Rq3P/307uQUFBQUFBQUFBQUFBQUFBQUFBQUFBQUFBQU/S/wGPhR9JaAIbSwAAAABJRU5ErkJggg==)"
      ]
    },
    {
      "cell_type": "markdown",
      "metadata": {
        "id": "Mn_vGqswyBr0"
      },
      "source": [
        "<br>Consultor: Everton Menezes </br>"
      ]
    },
    {
      "cell_type": "markdown",
      "metadata": {
        "id": "99zA4INuNrJx"
      },
      "source": [
        "# Funções\n",
        "As funções são rotinas que são executadas várias vezes nos programas."
      ]
    },
    {
      "cell_type": "markdown",
      "metadata": {
        "id": "UpEKpe82x_XA"
      },
      "source": [
        "As funções no Python e em qualquer linguagem de programação estão sendo usadas desde que você começou a programar. Muito provavelmente a primeira função que você aprendeu a usar foi a: `print()`.\n",
        "\n",
        "É claro que você já percebeu o tanto que essa função é utilizada e também muitas outras. Mas conforme a gente vai codando mais e mais e resolvendo problemas de negócios com programação a gente percebe que está executando rotinas iguais várias vezes e em vários programas.\n",
        "\n",
        "As funções vieram para dar a possibilidade para o programador criar suas próprias rotinas e assim deixar os seus códigos mais organizados, rápidos, eficientes e ainda de quebra economizar muito tempo programando."
      ]
    },
    {
      "cell_type": "markdown",
      "metadata": {
        "id": "4qQKWn1WzHBw"
      },
      "source": [
        "## Criando Funções\n",
        "\n",
        "```\n",
        "def funcao():\n",
        "  print('Função')\n",
        "\n",
        "funcao()\n",
        "```"
      ]
    },
    {
      "cell_type": "markdown",
      "metadata": {
        "id": "Ngkezy3izOAn"
      },
      "source": [
        "Para criar uma função basta utilizar a palavra reservada `def` para começar a sua função.\n",
        "\n",
        "Todas as funções devem vir no começo do programa (antes do programa principal) - ou em arquivo separado para ser importado. #spoiler (bibliotecas).\n",
        "\n",
        "O que pode ser feito dentro de uma subrotina pode ser tão simples quanto uma operação de soma, até complexo a nível de um algorítmo de Machine Learning.\n",
        "\n",
        "O mais importante é sempre pensar: \"eu gasto muito tempo fazendo a mesma coisa repetidas vezes?\" Se sim então crie uma subrotina! Crie uma função!!!\n",
        "\n",
        "<h2> Estrutura da função </h2> \n",
        "\n",
        "```\n",
        "# Função\n",
        "def funcao(parametro):     -> declaração da funcao\n",
        "  print('Função')          -> inicio da função\n",
        "\n",
        "                           -> fim da função\n",
        "# Programa Principal\n",
        "...\n",
        "funcao(parametro)                   -> chamada da função\n",
        "```\n",
        "> `parametro` são as variáveis, estruturas e instâncias que a função irá receber para ser executada.\n",
        "\n",
        "<h2> Função sem parâmetro de entrada </h2>\n",
        "\n",
        "Faça uma função que imprima algo:"
      ]
    },
    {
      "cell_type": "code",
      "metadata": {
        "colab": {
          "base_uri": "https://localhost:8080/"
        },
        "id": "uXiIHlhP07HH",
        "outputId": "582bd783-037a-4719-bfd7-e6a7471f3a7b"
      },
      "source": [
        "#Função de imprimir\n",
        "def funcao():\n",
        "  print('Olá, seja muito bem vindo ao curso de Python da DNC')\n",
        "\n",
        "\n",
        "\n",
        "#Programa principal\n",
        "funcao()"
      ],
      "execution_count": 1,
      "outputs": [
        {
          "output_type": "stream",
          "name": "stdout",
          "text": [
            "Olá, seja muito bem vindo ao curso de Python da DNC\n"
          ]
        }
      ]
    },
    {
      "cell_type": "markdown",
      "metadata": {
        "id": "t-Gifqe1z-mU"
      },
      "source": [
        "A partir do momento que a função está declarada e rodando o nome da função passa a ser uma nova função que você pode executar a qualquer momento.\n",
        "\n",
        "<h2> Exercício 1 </h2>\n",
        "Faça um programa que imprima:\n",
        "\n",
        "```\n",
        "---------------------------------\n",
        "----------- Bem Vindo -----------\n",
        "---------------------------------\n",
        "```"
      ]
    },
    {
      "cell_type": "code",
      "metadata": {
        "colab": {
          "base_uri": "https://localhost:8080/"
        },
        "id": "J7Hts9uy1ndh",
        "outputId": "e721777d-23c6-4c26-bebc-f07b3bd8f7b0"
      },
      "source": [
        "# Função Bem-vindo\n",
        "def bemvindo():\n",
        "  print('-'*35)\n",
        "  print('------------bem-vindo--------------')\n",
        "  print('-'*35)\n",
        "\n",
        "# Principal\n",
        "bemvindo()"
      ],
      "execution_count": 7,
      "outputs": [
        {
          "output_type": "stream",
          "name": "stdout",
          "text": [
            "-----------------------------------\n",
            "------------bem-vindo--------------\n",
            "-----------------------------------\n"
          ]
        }
      ]
    },
    {
      "cell_type": "markdown",
      "metadata": {
        "id": "ewkFuJXj2Col"
      },
      "source": [
        "<h2> Função com parâmetro de entrada </h2>\n",
        "\n",
        "```\n",
        "# Função\n",
        "def funcao(parametro):     -> declaração da funcao\n",
        "  parametro                -> inicio da função\n",
        "\n",
        "                           -> fim da função\n",
        "# Programa Principal\n",
        "...\n",
        "funcao(parametro)          -> chamada da função\n",
        "```\n",
        "\n",
        "Para esse exemplo o parâmetro deve ser dado na chamada da função no programa principal. Esse parâmetro deve ser usado de alguma maneira na função para atender ao seu propósito.\n",
        "\n",
        "<h3> Exemplo 1 </h3>\n",
        "\n",
        "Faça um programa que o usuário escreva a frase e o programa imprime:\n",
        "```\n",
        "---------------------------------\n",
        "----------- Bem Vindo -----------\n",
        "---------------------------------\n",
        "```"
      ]
    },
    {
      "cell_type": "code",
      "metadata": {
        "colab": {
          "base_uri": "https://localhost:8080/"
        },
        "id": "w8i9RwF524t1",
        "outputId": "70148ad3-92af-416d-cd62-f3663ddba0c1"
      },
      "source": [
        "# Função de imprimir\n",
        "def txt(frase):\n",
        "  print(frase)\n",
        "# Principal\n",
        "frase = str(input('digite uma frase pequena: '))\n",
        "txt(frase)"
      ],
      "execution_count": 10,
      "outputs": [
        {
          "output_type": "stream",
          "name": "stdout",
          "text": [
            "digite uma frase pequena: ola mundo\n",
            "ola mundo\n"
          ]
        }
      ]
    },
    {
      "cell_type": "markdown",
      "metadata": {
        "id": "sO1DpYFP3ysK"
      },
      "source": [
        "<h2> Exercício 2 </h2>\n",
        "\n",
        "Faça um programa que some 2 números"
      ]
    },
    {
      "cell_type": "code",
      "metadata": {
        "colab": {
          "base_uri": "https://localhost:8080/"
        },
        "id": "T7jLY8bS3yVN",
        "outputId": "b7361c7c-0283-4318-f49b-b34f07dd9d90"
      },
      "source": [
        "# Função de imprimir\n",
        "def soma(a,b):\n",
        "  s = a + b\n",
        "  print(f'a soma é de {s}')\n",
        "\n",
        "# Principal\n",
        "soma(2,5)"
      ],
      "execution_count": 11,
      "outputs": [
        {
          "output_type": "stream",
          "name": "stdout",
          "text": [
            "a soma é de 7\n"
          ]
        }
      ]
    },
    {
      "cell_type": "markdown",
      "metadata": {
        "id": "0cHNhUsP4URn"
      },
      "source": [
        "<h2> Funções com parâmetros opcionais </h2>\n",
        "\n",
        "```\n",
        "# Função\n",
        "def funcao(parametro=valor):     -> declaração da funcao\n",
        "  parametro                      -> inicio da função\n",
        "\n",
        "                                 -> fim da função\n",
        "# Programa Principal\n",
        "...\n",
        "funcao(parametro)                -> chamada da função\n",
        "``` \n",
        "\n",
        "Em toda função é possível configurar quais parâmetros precisam de um valor inicial configurado e quais não precisam.\n",
        "\n",
        "<h2> Exemplo 2 </h2>\n",
        "\n",
        "Refaça o programa da soma mas agora deixe ambas os parâmetros como opcionais."
      ]
    },
    {
      "cell_type": "code",
      "metadata": {
        "colab": {
          "base_uri": "https://localhost:8080/"
        },
        "id": "KyYmQEXC5Jat",
        "outputId": "00001733-9939-4c9f-88ce-63203fbc10ed"
      },
      "source": [
        "# Função de somar\n",
        "def soma(a=0, b=0):\n",
        "  s = a+b\n",
        "  print(f'a soma é de {s}')\n",
        "\n",
        "# Principal\n",
        "valor1 = 4\n",
        "valor2 = 8\n",
        "soma(valor1)"
      ],
      "execution_count": 14,
      "outputs": [
        {
          "output_type": "stream",
          "name": "stdout",
          "text": [
            "a soma é de 4\n"
          ]
        }
      ]
    },
    {
      "cell_type": "markdown",
      "metadata": {
        "id": "Ziig4ypW7-sQ"
      },
      "source": [
        "<h2> Funções com retorno </h2>\n",
        "\n",
        "```\n",
        "# Função\n",
        "def funcao(parametro=valor):     -> declaração da funcao\n",
        "  parametro                      -> inicio da função\n",
        "  return var\n",
        "                                 -> fim da função\n",
        "# Programa Principal\n",
        "...\n",
        "funcao(parametro)                -> chamada da função\n",
        "``` \n",
        "\n",
        "Também é possível configurar se algum valor deve voltar para o usuário do programa.\n",
        "\n",
        "<h2> Exemplo 3 </h2>\n",
        "\n",
        "Ainda no programa da soma volte para o Programa Principal o valor da soma."
      ]
    },
    {
      "cell_type": "code",
      "metadata": {
        "colab": {
          "base_uri": "https://localhost:8080/"
        },
        "id": "QKaEdzth8ZUI",
        "outputId": "f7ecaa75-96e3-4685-b612-066f688b8d7b"
      },
      "source": [
        "# Função de imprimir\n",
        "def soma(a,b=0):\n",
        "  s = a + b\n",
        "  return s\n",
        "\n",
        "# Principal\n",
        "ok = soma(5,2)\n",
        "print(ok)"
      ],
      "execution_count": 17,
      "outputs": [
        {
          "output_type": "stream",
          "name": "stdout",
          "text": [
            "7\n"
          ]
        }
      ]
    },
    {
      "cell_type": "markdown",
      "metadata": {
        "id": "xET1W-VY844v"
      },
      "source": [
        "<h2> Funções com quantidade indefinida de parâmetros </h2>\n",
        "\n",
        "```\n",
        "# Função\n",
        "def funcao(*num):     -> declaração da funcao\n",
        "  parametro                      -> inicio da função\n",
        "  return var\n",
        "                                 -> fim da função\n",
        "# Programa Principal\n",
        "...\n",
        "funcao(parametro)                -> chamada da função\n",
        "``` \n",
        "\n",
        "É possível deixar livre a quantidade de variáveis que são inseridas como parâmetro.\n",
        "\n",
        "<h2> Exemplo 4 </h2>\n",
        "\n",
        "Faça um programa que tire a média de uma quantidade indeterminada de números."
      ]
    },
    {
      "cell_type": "code",
      "metadata": {
        "colab": {
          "base_uri": "https://localhost:8080/"
        },
        "id": "1qQkUtg-9Xz3",
        "outputId": "963dcd0b-5828-4683-92c4-e80dcdfdb280"
      },
      "source": [
        "# Função de média\n",
        "def media(*num):\n",
        "  soma = 0\n",
        "  qtd = len(num)\n",
        "  for n in num:\n",
        "    soma += n\n",
        "  media = soma / qtd  \n",
        "  return media\n",
        "\n",
        "\n",
        "# Principal\n",
        "var = media(10,3,2,6)\n",
        "print(var)"
      ],
      "execution_count": 18,
      "outputs": [
        {
          "output_type": "stream",
          "name": "stdout",
          "text": [
            "5.25\n"
          ]
        }
      ]
    },
    {
      "cell_type": "markdown",
      "metadata": {
        "id": "mxWorzDw-A-c"
      },
      "source": [
        "## Help e Docstring\n",
        "\n",
        "O Python possui um comando de help que nos ajuda a verificar como usar a função corretamente."
      ]
    },
    {
      "cell_type": "markdown",
      "metadata": {
        "id": "VpdSZLQo-KVt"
      },
      "source": [
        "Para usar o `help` pasta usar o comando:\n",
        "\n",
        "```\n",
        "help(funcao)\n",
        "```\n",
        "\n",
        "Aplique o help nas funções:\n",
        "* print()\n",
        "* len()\n",
        "* sorted()"
      ]
    },
    {
      "cell_type": "code",
      "source": [
        "lista = [1, 4, 6, 7, 8, 9]\n",
        "print(sorted(lista, reverse = True))\n",
        "\n",
        "\n",
        "help(sorted)"
      ],
      "metadata": {
        "colab": {
          "base_uri": "https://localhost:8080/"
        },
        "id": "dVZVLWzbrfHi",
        "outputId": "4f4d733c-6fa5-4242-f06a-37e30919843d"
      },
      "execution_count": 26,
      "outputs": [
        {
          "output_type": "stream",
          "name": "stdout",
          "text": [
            "[9, 8, 7, 6, 4, 1]\n",
            "Help on built-in function sorted in module builtins:\n",
            "\n",
            "sorted(iterable, /, *, key=None, reverse=False)\n",
            "    Return a new list containing all items from the iterable in ascending order.\n",
            "    \n",
            "    A custom key function can be supplied to customize the sort order, and the\n",
            "    reverse flag can be set to request the result in descending order.\n",
            "\n"
          ]
        }
      ]
    },
    {
      "cell_type": "code",
      "source": [
        "help(media)"
      ],
      "metadata": {
        "colab": {
          "base_uri": "https://localhost:8080/"
        },
        "id": "CrMBBbBQr7zA",
        "outputId": "425d1b25-427e-45b3-c72c-2c0847535217"
      },
      "execution_count": 27,
      "outputs": [
        {
          "output_type": "stream",
          "name": "stdout",
          "text": [
            "Help on function media in module __main__:\n",
            "\n",
            "media(*num)\n",
            "    # Função de média\n",
            "\n"
          ]
        }
      ]
    },
    {
      "cell_type": "code",
      "metadata": {
        "colab": {
          "base_uri": "https://localhost:8080/"
        },
        "id": "pcisrRFq-a-T",
        "outputId": "569bb40b-68b0-4e4a-d99b-ebfce9245021"
      },
      "source": [
        "print('ola', end=' gg ')\n",
        "print('ola ola')\n",
        "\n",
        "help(print)"
      ],
      "execution_count": 23,
      "outputs": [
        {
          "output_type": "stream",
          "name": "stdout",
          "text": [
            "ola gg ola ola\n",
            "Help on built-in function print in module builtins:\n",
            "\n",
            "print(...)\n",
            "    print(value, ..., sep=' ', end='\\n', file=sys.stdout, flush=False)\n",
            "    \n",
            "    Prints the values to a stream, or to sys.stdout by default.\n",
            "    Optional keyword arguments:\n",
            "    file:  a file-like object (stream); defaults to the current sys.stdout.\n",
            "    sep:   string inserted between values, default a space.\n",
            "    end:   string appended after the last value, default a newline.\n",
            "    flush: whether to forcibly flush the stream.\n",
            "\n"
          ]
        }
      ]
    },
    {
      "cell_type": "markdown",
      "metadata": {
        "id": "EZiJ-iCe-kN0"
      },
      "source": [
        "<h2> Docstring </h2>\n",
        "\n",
        "Como estamos aprendendo a fazer nossas funções uma coisa que também devemos aprender é como documentar nossas funções para que outros devs também consigam usar. Para isso basta usar o comando `aspas triplas` logo abaixo da declaração da função.\n",
        "\n",
        "    \"\"\"\n",
        "    Breve texto explicativo da função\n",
        "    :param a: o que este parâmetro faz\n",
        "    :param b: o que este parâmetro faz\n",
        "    :return: o que será retornado ao usuário.\n",
        "    \"\"\"\n",
        "\n",
        "Ao se usar o comando help() na sua função será mostrado o texto acima para o usuário.\n",
        "\n",
        "<h3> Exemplo 5 </h3>\n",
        "\n",
        "Crie o `docstring` da função da média"
      ]
    },
    {
      "cell_type": "code",
      "metadata": {
        "colab": {
          "base_uri": "https://localhost:8080/"
        },
        "id": "qGXfGE4q_m9q",
        "outputId": "65b3925b-1be3-424e-e952-5e419ea20566"
      },
      "source": [
        "# Função de média\n",
        "def media(*num):\n",
        "  \"\"\"\n",
        "  a funçao da media calcula a media de varios numeros. \n",
        "  funçao nao aceita listas e nem dicionarios\n",
        "  num: sao os numeros enviados int ou float\n",
        "  return: media = media dos numeros\n",
        "  autor: matheus\n",
        "  versao: 1.0\n",
        "\n",
        "\n",
        "  \"\"\"\n",
        "  soma = 0\n",
        "  qtd = len(num)\n",
        "  for n in num:\n",
        "    soma += n\n",
        "  media = soma / qtd  \n",
        "  return media\n",
        "\n",
        "\n",
        "# Principal\n",
        "var = media(10,3,2,6)\n",
        "print(var)\n",
        "\n",
        "help(media)"
      ],
      "execution_count": 29,
      "outputs": [
        {
          "output_type": "stream",
          "name": "stdout",
          "text": [
            "5.25\n",
            "Help on function media in module __main__:\n",
            "\n",
            "media(*num)\n",
            "    a funçao da media calcula a media de varios numeros. \n",
            "    funçao nao aceita listas e nem dicionarios\n",
            "    num: sao os numeros enviados int ou float\n",
            "    return: media = media dos numeros\n",
            "    autor: matheus\n",
            "    versao: 1.0\n",
            "\n"
          ]
        }
      ]
    },
    {
      "cell_type": "markdown",
      "metadata": {
        "id": "TqdO87aZAQbb"
      },
      "source": [
        "## Escopo Local e Global\n",
        "\n",
        "Escopo local é o escopo da função enquanto o global é do programa inteiro."
      ]
    },
    {
      "cell_type": "markdown",
      "metadata": {
        "id": "s_IacpQuA-40"
      },
      "source": [
        "Ao se fazer uma subrotina ou função - ela é operada num escopo local, ou seja, todas as variáveis utilizadas na subrotina NÃO são enviadas para o programa principal.\n",
        "\n",
        "Já as variáveis declaradas no programa principal - escopo global - podem ser utilizadas nas funções mas não tem o seu valor atualizado no escopo global a não ser que use variável global.\n",
        "\n",
        "As variáveis globais são aquelas que podem ser utilizadas tanto no escopo global quanto no local.\n",
        "\n",
        "<h3> Exemplo 6 </h3>\n",
        "\n",
        "Modifique o programa da soma de modo que você imprima os valores a, b, c e s nos dois escopos."
      ]
    },
    {
      "cell_type": "code",
      "metadata": {
        "colab": {
          "base_uri": "https://localhost:8080/"
        },
        "id": "Iuqux5eCAQKY",
        "outputId": "8c934788-e7a6-4eaa-851e-65401bb8b6ca"
      },
      "source": [
        "from logging import basicConfig\n",
        "# Função de somar\n",
        "def soma(a, b=0):\n",
        "  s = a + b\n",
        "  a = 8\n",
        "  print(a, b, c, s)\n",
        "  return s\n",
        "\n",
        "\n",
        "# Principal\n",
        "a = 5\n",
        "b = 2\n",
        "c= 3\n",
        "somado = soma(a,b)\n",
        "print(a, b)\n",
        "print(s)\n",
        "print(somado)"
      ],
      "execution_count": 30,
      "outputs": [
        {
          "output_type": "stream",
          "name": "stdout",
          "text": [
            "8 2 3 7\n",
            "5 2\n",
            "7\n",
            "7\n"
          ]
        }
      ]
    },
    {
      "cell_type": "markdown",
      "metadata": {
        "id": "-D7uYCk6CGks"
      },
      "source": [
        "<h2> Declaração Global de variável </h2>\n",
        "\n",
        "Para contornar o problema acima é possível declarar algumas variáveis como globais. Assim qualquer modificação que elas sofrerem na subrotina também afetará o programa principal\n",
        "\n",
        "```\n",
        "global var\n",
        "```\n",
        "\n",
        "<h3> Exemplo 7 </h3>\n",
        "\n",
        "Modifique o programa da soma: coloque as variáveis a e s como globais."
      ]
    },
    {
      "cell_type": "code",
      "metadata": {
        "colab": {
          "base_uri": "https://localhost:8080/"
        },
        "id": "FZx2GZusCnnR",
        "outputId": "f6c3d0a3-891c-4d42-d77b-02ac358805e2"
      },
      "source": [
        "# Função de somar\n",
        "def soma(a, b=0):\n",
        "  global c, s\n",
        "  s = a + b\n",
        "  c = 8\n",
        "  print(a, b, c, s)\n",
        "  return s\n",
        "\n",
        "\n",
        "# Principal\n",
        "a = 5\n",
        "b = 2\n",
        "c= 3\n",
        "somado = soma(a,b)\n",
        "print(a, b, c)\n",
        "print(s)\n",
        "print(somado)\n",
        "\n",
        "# Principal\n"
      ],
      "execution_count": 34,
      "outputs": [
        {
          "output_type": "stream",
          "name": "stdout",
          "text": [
            "5 2 8 7\n",
            "5 2 8\n",
            "7\n",
            "7\n"
          ]
        }
      ]
    },
    {
      "cell_type": "markdown",
      "metadata": {
        "id": "zxInU-AhDGLL"
      },
      "source": [
        "## Funções Nativas.\n",
        "\n",
        "O Python possui diversas funções nativas. Quer saber mais sobre elas? Rode o comando:\n",
        "\n",
        "```\n",
        "dir(__builtins__)\n",
        "```"
      ]
    },
    {
      "cell_type": "code",
      "metadata": {
        "id": "5HfV676hDFkA",
        "colab": {
          "base_uri": "https://localhost:8080/"
        },
        "outputId": "798729e2-2fe9-4d08-8a78-02c148189665"
      },
      "source": [
        "dir(__builtins__)"
      ],
      "execution_count": 35,
      "outputs": [
        {
          "output_type": "execute_result",
          "data": {
            "text/plain": [
              "['ArithmeticError',\n",
              " 'AssertionError',\n",
              " 'AttributeError',\n",
              " 'BaseException',\n",
              " 'BlockingIOError',\n",
              " 'BrokenPipeError',\n",
              " 'BufferError',\n",
              " 'BytesWarning',\n",
              " 'ChildProcessError',\n",
              " 'ConnectionAbortedError',\n",
              " 'ConnectionError',\n",
              " 'ConnectionRefusedError',\n",
              " 'ConnectionResetError',\n",
              " 'DeprecationWarning',\n",
              " 'EOFError',\n",
              " 'Ellipsis',\n",
              " 'EnvironmentError',\n",
              " 'Exception',\n",
              " 'False',\n",
              " 'FileExistsError',\n",
              " 'FileNotFoundError',\n",
              " 'FloatingPointError',\n",
              " 'FutureWarning',\n",
              " 'GeneratorExit',\n",
              " 'IOError',\n",
              " 'ImportError',\n",
              " 'ImportWarning',\n",
              " 'IndentationError',\n",
              " 'IndexError',\n",
              " 'InterruptedError',\n",
              " 'IsADirectoryError',\n",
              " 'KeyError',\n",
              " 'KeyboardInterrupt',\n",
              " 'LookupError',\n",
              " 'MemoryError',\n",
              " 'ModuleNotFoundError',\n",
              " 'NameError',\n",
              " 'None',\n",
              " 'NotADirectoryError',\n",
              " 'NotImplemented',\n",
              " 'NotImplementedError',\n",
              " 'OSError',\n",
              " 'OverflowError',\n",
              " 'PendingDeprecationWarning',\n",
              " 'PermissionError',\n",
              " 'ProcessLookupError',\n",
              " 'RecursionError',\n",
              " 'ReferenceError',\n",
              " 'ResourceWarning',\n",
              " 'RuntimeError',\n",
              " 'RuntimeWarning',\n",
              " 'StopAsyncIteration',\n",
              " 'StopIteration',\n",
              " 'SyntaxError',\n",
              " 'SyntaxWarning',\n",
              " 'SystemError',\n",
              " 'SystemExit',\n",
              " 'TabError',\n",
              " 'TimeoutError',\n",
              " 'True',\n",
              " 'TypeError',\n",
              " 'UnboundLocalError',\n",
              " 'UnicodeDecodeError',\n",
              " 'UnicodeEncodeError',\n",
              " 'UnicodeError',\n",
              " 'UnicodeTranslateError',\n",
              " 'UnicodeWarning',\n",
              " 'UserWarning',\n",
              " 'ValueError',\n",
              " 'Warning',\n",
              " 'ZeroDivisionError',\n",
              " '__IPYTHON__',\n",
              " '__build_class__',\n",
              " '__debug__',\n",
              " '__doc__',\n",
              " '__import__',\n",
              " '__loader__',\n",
              " '__name__',\n",
              " '__package__',\n",
              " '__spec__',\n",
              " 'abs',\n",
              " 'all',\n",
              " 'any',\n",
              " 'ascii',\n",
              " 'bin',\n",
              " 'bool',\n",
              " 'breakpoint',\n",
              " 'bytearray',\n",
              " 'bytes',\n",
              " 'callable',\n",
              " 'chr',\n",
              " 'classmethod',\n",
              " 'compile',\n",
              " 'complex',\n",
              " 'copyright',\n",
              " 'credits',\n",
              " 'delattr',\n",
              " 'dict',\n",
              " 'dir',\n",
              " 'display',\n",
              " 'divmod',\n",
              " 'enumerate',\n",
              " 'eval',\n",
              " 'exec',\n",
              " 'execfile',\n",
              " 'filter',\n",
              " 'float',\n",
              " 'format',\n",
              " 'frozenset',\n",
              " 'get_ipython',\n",
              " 'getattr',\n",
              " 'globals',\n",
              " 'hasattr',\n",
              " 'hash',\n",
              " 'help',\n",
              " 'hex',\n",
              " 'id',\n",
              " 'input',\n",
              " 'int',\n",
              " 'isinstance',\n",
              " 'issubclass',\n",
              " 'iter',\n",
              " 'len',\n",
              " 'license',\n",
              " 'list',\n",
              " 'locals',\n",
              " 'map',\n",
              " 'max',\n",
              " 'memoryview',\n",
              " 'min',\n",
              " 'next',\n",
              " 'object',\n",
              " 'oct',\n",
              " 'open',\n",
              " 'ord',\n",
              " 'pow',\n",
              " 'print',\n",
              " 'property',\n",
              " 'range',\n",
              " 'repr',\n",
              " 'reversed',\n",
              " 'round',\n",
              " 'runfile',\n",
              " 'set',\n",
              " 'setattr',\n",
              " 'slice',\n",
              " 'sorted',\n",
              " 'staticmethod',\n",
              " 'str',\n",
              " 'sum',\n",
              " 'super',\n",
              " 'tuple',\n",
              " 'type',\n",
              " 'vars',\n",
              " 'zip']"
            ]
          },
          "metadata": {},
          "execution_count": 35
        }
      ]
    },
    {
      "cell_type": "markdown",
      "metadata": {
        "id": "UwuvrRTBDXkl"
      },
      "source": [
        "# Exercícios"
      ]
    },
    {
      "cell_type": "markdown",
      "metadata": {
        "id": "9D9KClm_DaOg"
      },
      "source": [
        "<h2> Exercício 1 </h2>\n",
        "\n",
        "Faça uma função que calcule fatorial de um número\n"
      ]
    },
    {
      "cell_type": "code",
      "metadata": {
        "id": "txGKjAQBDkRP"
      },
      "source": [],
      "execution_count": null,
      "outputs": []
    },
    {
      "cell_type": "markdown",
      "metadata": {
        "id": "p1OCO_O2DkqI"
      },
      "source": [
        "<h2> Exercício 2 </h2>\n",
        "\n",
        "Faça uma função que verifica se o número é par. O retorno deve ser um booleano"
      ]
    },
    {
      "cell_type": "code",
      "metadata": {
        "id": "LwEPtap6Dtka"
      },
      "source": [],
      "execution_count": null,
      "outputs": []
    },
    {
      "cell_type": "markdown",
      "metadata": {
        "id": "WqdNa-MXEQGk"
      },
      "source": [
        "<h2> Exercício 3 </h2>\n",
        "\n",
        "Faça uma função que peça um input para o usuário, valide o tipo do input e retorne o valor já transformado\n"
      ]
    },
    {
      "cell_type": "code",
      "metadata": {
        "id": "5MFiQBqSEPwL"
      },
      "source": [],
      "execution_count": null,
      "outputs": []
    },
    {
      "cell_type": "markdown",
      "metadata": {
        "id": "t6QuWfINEiNK"
      },
      "source": [
        "<h2> Exercício 4 </h2>\n",
        "\n",
        "Faça uma função que dada um lista de números, ela retorne:\n",
        "* A média dos números\n",
        "* A soma dos números\n",
        "* O menor valor\n",
        "* O maior valor"
      ]
    },
    {
      "cell_type": "code",
      "metadata": {
        "id": "LprElcs7EuSs"
      },
      "source": [],
      "execution_count": null,
      "outputs": []
    }
  ]
}